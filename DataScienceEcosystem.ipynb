{
 "cells": [
  {
   "cell_type": "markdown",
   "id": "bbf89070-f27e-4b61-b4e8-d0e7555ee1d6",
   "metadata": {},
   "source": [
    "# Data Science Tools and Ecosystem"
   ]
  },
  {
   "cell_type": "markdown",
   "id": "7852550a-aa91-4afb-9b7a-2778ed995897",
   "metadata": {},
   "source": [
    "En este cuaderno, se resumen las herramientas y el ecosistema de ciencia de datos.\n"
   ]
  },
  {
   "cell_type": "markdown",
   "id": "a8d89436-2b13-42df-89da-2fbce8998af7",
   "metadata": {},
   "source": [
    "Algunos de los lenguajes más populares que utilizan los científicos de datos son:\n",
    "1. Python\n",
    "2. R\n",
    "3. SQL\n"
   ]
  },
  {
   "cell_type": "markdown",
   "id": "150a4d16-f6b5-4f3a-829b-84290838dc89",
   "metadata": {},
   "source": [
    "Algunas de las bibliotecas más utilizadas por los científicos de datos incluyen:\n",
    "1. Pandas\n",
    "2. NumPy\n",
    "3. Scikit-learn\n"
   ]
  },
  {
   "cell_type": "markdown",
   "id": "2b966a36-d938-4ce3-be7f-a16c9d4b7820",
   "metadata": {},
   "source": [
    "| Herramientas de Ciencia de Datos |\n",
    "|----------------------------------|\n",
    "| Jupyter Notebook                 |\n",
    "| RStudio                          |\n",
    "| Spyder                           |\n"
   ]
  },
  {
   "cell_type": "markdown",
   "id": "3c0197ba-9881-4e1b-acb0-400dbb4bb530",
   "metadata": {},
   "source": [
    "### A continuación, se muestran algunos ejemplos de evaluación de expresiones aritméticas en Python.\n"
   ]
  },
  {
   "cell_type": "code",
   "execution_count": 9,
   "id": "9fccdd92-a5f4-4c61-a9f4-a648360c33a3",
   "metadata": {},
   "outputs": [
    {
     "data": {
      "text/plain": [
       "35"
      ]
     },
     "execution_count": 9,
     "metadata": {},
     "output_type": "execute_result"
    }
   ],
   "source": [
    "# Esta es una expresión aritmética que multiplica, suma y resta\n",
    "(5 * 6) + 8 - 3"
   ]
  },
  {
   "cell_type": "code",
   "execution_count": 11,
   "id": "506e79a4-56d7-435d-a81e-1ce8eaeb8f05",
   "metadata": {},
   "outputs": [
    {
     "data": {
      "text/plain": [
       "2.5"
      ]
     },
     "execution_count": 11,
     "metadata": {},
     "output_type": "execute_result"
    }
   ],
   "source": [
    "# Esta es una expresión que convierte 150 minutos en horas dividiendo por 60\n",
    "150 / 60"
   ]
  },
  {
   "cell_type": "markdown",
   "id": "f6ebafa5-ac7b-43fc-8c8f-14eb9edc8566",
   "metadata": {},
   "source": [
    "**Objetivos:**\n",
    "- Listar los lenguajes más populares en Ciencia de Datos\n",
    "- Describir algunas de las bibliotecas utilizadas en Ciencia de Datos\n",
    "- Mostrar herramientas de desarrollo en Ciencia de Datos\n",
    "- Evaluar expresiones aritméticas en Python\n"
   ]
  },
  {
   "cell_type": "code",
   "execution_count": null,
   "id": "fb88a716-e95c-431d-a5b8-c04d2082458e",
   "metadata": {},
   "outputs": [],
   "source": []
  }
 ],
 "metadata": {
  "kernelspec": {
   "display_name": "Python 3 (ipykernel)",
   "language": "python",
   "name": "python3"
  },
  "language_info": {
   "codemirror_mode": {
    "name": "ipython",
    "version": 3
   },
   "file_extension": ".py",
   "mimetype": "text/x-python",
   "name": "python",
   "nbconvert_exporter": "python",
   "pygments_lexer": "ipython3",
   "version": "3.11.5"
  }
 },
 "nbformat": 4,
 "nbformat_minor": 5
}
